{
 "cells": [
  {
   "cell_type": "markdown",
   "metadata": {
    "id": "F9GYSUUXkMJr"
   },
   "source": [
    "# Numpy_Assignment_2::"
   ]
  },
  {
   "cell_type": "markdown",
   "metadata": {
    "id": "qJsea6I9kMJu"
   },
   "source": [
    "## Question:1"
   ]
  },
  {
   "cell_type": "markdown",
   "metadata": {
    "id": "MMmhAx4kkMJu"
   },
   "source": [
    "### Convert a 1D array to a 2D array with 2 rows?"
   ]
  },
  {
   "cell_type": "markdown",
   "metadata": {
    "id": "hVj0csUukMJv"
   },
   "source": [
    "#### Desired output::"
   ]
  },
  {
   "cell_type": "markdown",
   "metadata": {
    "id": "GU7DJ-DPkMJw"
   },
   "source": [
    "array([[0, 1, 2, 3, 4],\n",
    "        [5, 6, 7, 8, 9]])"
   ]
  },
  {
   "cell_type": "code",
   "execution_count": null,
   "metadata": {
    "colab": {
     "base_uri": "https://localhost:8080/"
    },
    "id": "GU1eGrvekMJw",
    "outputId": "98bb017e-30b6-4765-d37c-33b5e4ad5d91"
   },
   "outputs": [
    {
     "data": {
      "text/plain": [
       "array([[0, 1, 2, 3, 4],\n",
       "       [5, 6, 7, 8, 9]])"
      ]
     },
     "execution_count": 1,
     "metadata": {
      "tags": []
     },
     "output_type": "execute_result"
    }
   ],
   "source": [
    "import numpy as np\n",
    "\n",
    "x = np.array([[0, 1, 2, 3, 4], [5, 6, 7, 8, 9]]).reshape(2,5)\n",
    "x\n"
   ]
  },
  {
   "cell_type": "markdown",
   "metadata": {
    "id": "cd65CSWjkMJx"
   },
   "source": [
    "## Question:2"
   ]
  },
  {
   "cell_type": "markdown",
   "metadata": {
    "id": "kPYZJJmOkMJy"
   },
   "source": [
    "###  How to stack two arrays vertically?"
   ]
  },
  {
   "cell_type": "markdown",
   "metadata": {
    "id": "ENB5fNTAkMJy"
   },
   "source": [
    "#### Desired Output::"
   ]
  },
  {
   "cell_type": "markdown",
   "metadata": {
    "id": "tc0FB-lvkMJz"
   },
   "source": [
    "array([[0, 1, 2, 3, 4],\n",
    "        [5, 6, 7, 8, 9],\n",
    "       [1, 1, 1, 1, 1],\n",
    "       [1, 1, 1, 1, 1]])"
   ]
  },
  {
   "cell_type": "code",
   "execution_count": null,
   "metadata": {
    "colab": {
     "base_uri": "https://localhost:8080/"
    },
    "id": "3kZ6rspDkMJz",
    "outputId": "437aa145-1497-4584-806e-1077eb718b5a"
   },
   "outputs": [
    {
     "data": {
      "text/plain": [
       "array([[0, 1, 2, 3, 4],\n",
       "       [5, 6, 7, 8, 9],\n",
       "       [1, 1, 1, 1, 1],\n",
       "       [1, 1, 1, 1, 1]])"
      ]
     },
     "execution_count": 2,
     "metadata": {
      "tags": []
     },
     "output_type": "execute_result"
    }
   ],
   "source": [
    "a = np.array([[0, 1, 2, 3, 4],[5, 6, 7, 8, 9]])\n",
    "b = np.array ([[1, 1, 1, 1, 1],[1, 1, 1, 1, 1]])\n",
    "\n",
    "np.vstack((a,b))"
   ]
  },
  {
   "cell_type": "markdown",
   "metadata": {
    "id": "nLEHnzl3kMJ0"
   },
   "source": [
    "## Question:3"
   ]
  },
  {
   "cell_type": "markdown",
   "metadata": {
    "id": "prhcoIxUkMJ0"
   },
   "source": [
    "### How to stack two arrays horizontally?"
   ]
  },
  {
   "cell_type": "markdown",
   "metadata": {
    "id": "g_yJUsylkMJ1"
   },
   "source": [
    "#### Desired Output::"
   ]
  },
  {
   "cell_type": "markdown",
   "metadata": {
    "id": "V-dDbyYSkMJ2"
   },
   "source": [
    "array([[0, 1, 2, 3, 4, 1, 1, 1, 1, 1],\n",
    "       [5, 6, 7, 8, 9, 1, 1, 1, 1, 1]])"
   ]
  },
  {
   "cell_type": "code",
   "execution_count": null,
   "metadata": {
    "colab": {
     "base_uri": "https://localhost:8080/"
    },
    "id": "w-6p1pA7kMJ2",
    "outputId": "29454b2d-7331-4184-a7ef-0073dba76a55"
   },
   "outputs": [
    {
     "data": {
      "text/plain": [
       "array([[0, 1, 2, 3, 4, 1, 1, 1, 1, 1],\n",
       "       [5, 6, 7, 8, 9, 1, 1, 1, 1, 1]])"
      ]
     },
     "execution_count": 3,
     "metadata": {
      "tags": []
     },
     "output_type": "execute_result"
    }
   ],
   "source": [
    "a = np.array([[0, 1, 2, 3, 4],[5, 6, 7, 8, 9]])\n",
    "b = np.array ([[1, 1, 1, 1, 1],[1, 1, 1, 1, 1]])\n",
    "\n",
    "np.hstack((a,b))"
   ]
  },
  {
   "cell_type": "markdown",
   "metadata": {
    "id": "Clqt0GP4kMJ2"
   },
   "source": [
    "## Question:4"
   ]
  },
  {
   "cell_type": "markdown",
   "metadata": {
    "id": "NIHIpYJ1kMJ3"
   },
   "source": [
    "### How to convert an array of arrays into a flat 1d array?"
   ]
  },
  {
   "cell_type": "markdown",
   "metadata": {
    "id": "NBMihyATkMJ3"
   },
   "source": [
    "#### Desired Output::"
   ]
  },
  {
   "cell_type": "markdown",
   "metadata": {
    "id": "YOn4H30gkMJ3"
   },
   "source": [
    "array([0, 1, 2, 3, 4, 5, 6, 7, 8, 9])"
   ]
  },
  {
   "cell_type": "code",
   "execution_count": null,
   "metadata": {
    "colab": {
     "base_uri": "https://localhost:8080/"
    },
    "id": "treO96oCkMJ3",
    "outputId": "f98b9c48-2fa4-4535-8fd9-49bb3d30a817"
   },
   "outputs": [
    {
     "name": "stderr",
     "output_type": "stream",
     "text": [
      "/usr/local/lib/python3.6/dist-packages/ipykernel_launcher.py:7: VisibleDeprecationWarning: Creating an ndarray from ragged nested sequences (which is a list-or-tuple of lists-or-tuples-or ndarrays with different lengths or shapes) is deprecated. If you meant to do this, you must specify 'dtype=object' when creating the ndarray\n",
      "  import sys\n"
     ]
    },
    {
     "data": {
      "text/plain": [
       "array([0, 1, 2, 3, 4, 5, 6, 7, 8, 9])"
      ]
     },
     "execution_count": 3,
     "metadata": {
      "tags": []
     },
     "output_type": "execute_result"
    }
   ],
   "source": [
    "import numpy as np\n",
    "\n",
    "arr1 = np.arange(3)\n",
    "arr2 = np.arange(3,7)\n",
    "arr3 = np.arange(7,10)\n",
    "\n",
    "array_of_array = np.array([arr1,arr2,arr3])\n",
    "\n",
    "\n",
    "arr4 = np.concatenate(array_of_array)\n",
    "arr4"
   ]
  },
  {
   "cell_type": "markdown",
   "metadata": {
    "id": "SwYBGvxJkMJ3"
   },
   "source": [
    "## Question:5"
   ]
  },
  {
   "cell_type": "markdown",
   "metadata": {
    "id": "kETlJQGwkMJ4"
   },
   "source": [
    "### How to Convert higher dimension into one dimension?"
   ]
  },
  {
   "cell_type": "markdown",
   "metadata": {
    "id": "ZCITbtiYkMJ5"
   },
   "source": [
    "#### Desired Output::"
   ]
  },
  {
   "cell_type": "markdown",
   "metadata": {
    "id": "uLlczLegkMJ5"
   },
   "source": [
    "\n",
    "array([ 0, 1, 2, 3, 4, 5, 6, 7, 8, 9, 10, 11, 12, 13, 14])"
   ]
  },
  {
   "cell_type": "code",
   "execution_count": null,
   "metadata": {
    "id": "RAE-ybN7kMJ5",
    "outputId": "0bdf10a2-11e2-4c7a-a2a3-93c631833ed5"
   },
   "outputs": [
    {
     "name": "stdout",
     "output_type": "stream",
     "text": [
      "Before Converstion Result :\n",
      "\n",
      " [[ 0  1  2  3  4]\n",
      " [ 5  6  7  8  9]\n",
      " [10 11 12 13 14]]\n",
      "after Convert higher into one dimension\n"
     ]
    },
    {
     "data": {
      "text/plain": [
       "array([ 0,  1,  2,  3,  4,  5,  6,  7,  8,  9, 10, 11, 12, 13, 14])"
      ]
     },
     "execution_count": 9,
     "metadata": {
      "tags": []
     },
     "output_type": "execute_result"
    }
   ],
   "source": [
    "a = np.array([[0,1,2,3,4],[5,6,7,8,9],[10,11,12,13,14]])\n",
    "\n",
    "print (\"Before Converstion Result :\")\n",
    "print (\"\\n\", a)\n",
    "\n",
    "print (\"after Convert higher into one dimension\")\n",
    "\n",
    "b = a.flatten()\n",
    "b"
   ]
  },
  {
   "cell_type": "markdown",
   "metadata": {
    "id": "wFzmEzV1kMJ6"
   },
   "source": [
    "## Question:6"
   ]
  },
  {
   "cell_type": "markdown",
   "metadata": {
    "id": "ofgXa6hIkMJ6"
   },
   "source": [
    "### Convert one dimension to higher dimension?"
   ]
  },
  {
   "cell_type": "markdown",
   "metadata": {
    "id": "laqpc4qbkMJ6"
   },
   "source": [
    "#### Desired Output::"
   ]
  },
  {
   "cell_type": "markdown",
   "metadata": {
    "id": "zirTwQVekMJ6"
   },
   "source": [
    "array([[ 0, 1, 2],\n",
    "[ 3, 4, 5],\n",
    "[ 6, 7, 8],\n",
    "[ 9, 10, 11],\n",
    "[12, 13, 14]])"
   ]
  },
  {
   "cell_type": "code",
   "execution_count": null,
   "metadata": {
    "id": "EUwewXa8kMJ7",
    "outputId": "739ee196-c9c1-4b1d-e0fb-7d0eb62c1b21"
   },
   "outputs": [
    {
     "data": {
      "text/plain": [
       "array([[[ 0,  1,  2],\n",
       "        [ 3,  4,  5],\n",
       "        [ 6,  7,  8],\n",
       "        [ 9, 10, 11],\n",
       "        [12, 13, 14]]])"
      ]
     },
     "execution_count": 21,
     "metadata": {
      "tags": []
     },
     "output_type": "execute_result"
    }
   ],
   "source": [
    "a = np.array([0,1,2,3,4,5,6,7,8,9,10,11,12,13,14])\n",
    "\n",
    "a\n",
    "\n",
    "b = a.reshape(1,5,3)\n",
    "b"
   ]
  },
  {
   "cell_type": "markdown",
   "metadata": {
    "id": "hq9sP4VNkMJ7"
   },
   "source": [
    "## Question:7"
   ]
  },
  {
   "cell_type": "markdown",
   "metadata": {
    "id": "LDd2I0xCkMJ7"
   },
   "source": [
    "### Create 5x5 an array and find the square of an array?"
   ]
  },
  {
   "cell_type": "code",
   "execution_count": null,
   "metadata": {
    "id": "-AoPHM2RkMJ7",
    "outputId": "3920cb18-8e6c-4e70-cd88-a6f96852eaf6"
   },
   "outputs": [
    {
     "data": {
      "text/plain": [
       "array([[0.        , 1.        , 1.41421356, 1.73205081, 2.        ],\n",
       "       [2.23606798, 2.44948974, 2.64575131, 2.82842712, 3.        ],\n",
       "       [3.16227766, 3.31662479, 3.46410162, 3.60555128, 3.74165739],\n",
       "       [3.87298335, 4.        , 4.12310563, 4.24264069, 4.35889894],\n",
       "       [4.47213595, 4.58257569, 4.69041576, 4.79583152, 4.89897949]])"
      ]
     },
     "execution_count": 23,
     "metadata": {
      "tags": []
     },
     "output_type": "execute_result"
    }
   ],
   "source": [
    "a = np.arange(25).reshape(5,5)\n",
    "b = np.sqrt(a)\n",
    "b"
   ]
  },
  {
   "cell_type": "markdown",
   "metadata": {
    "id": "rmSq0ciJkMJ7"
   },
   "source": [
    "## Question:8"
   ]
  },
  {
   "cell_type": "markdown",
   "metadata": {
    "id": "8ZqeZQn4kMJ8"
   },
   "source": [
    "### Create 5x6 an array and find the mean?"
   ]
  },
  {
   "cell_type": "code",
   "execution_count": null,
   "metadata": {
    "colab": {
     "base_uri": "https://localhost:8080/"
    },
    "id": "cdERhawykMJ9",
    "outputId": "d1e00059-edc8-4b75-8204-05fbcb3f8e32"
   },
   "outputs": [
    {
     "name": "stdout",
     "output_type": "stream",
     "text": [
      "The mean of 5x6 arrays is : 14.5\n"
     ]
    }
   ],
   "source": [
    "import numpy as np\n",
    "\n",
    "a = np.arange(30).reshape(5,6)\n",
    "b = np.mean(a)\n",
    "print (\"The mean of 5x6 arrays is :\",b)"
   ]
  },
  {
   "cell_type": "markdown",
   "metadata": {
    "id": "YKz0DuHVkMJ9"
   },
   "source": [
    "## Question:9"
   ]
  },
  {
   "cell_type": "markdown",
   "metadata": {
    "id": "QxjWagOukMJ9"
   },
   "source": [
    "### Find the standard deviation of the previous array in Q8?"
   ]
  },
  {
   "cell_type": "code",
   "execution_count": null,
   "metadata": {
    "colab": {
     "base_uri": "https://localhost:8080/"
    },
    "id": "1wMF_AZDkMJ9",
    "outputId": "41355d6d-49f4-4887-ca79-81693db4ee41"
   },
   "outputs": [
    {
     "name": "stdout",
     "output_type": "stream",
     "text": [
      "The mean of 5x6 arrays is : 8.65544144839919\n"
     ]
    }
   ],
   "source": [
    "a = np.arange(30).reshape(5,6)\n",
    "b = np.std(a)\n",
    "print (\"The deviation of 5x6 arrays is :\",b)"
   ]
  },
  {
   "cell_type": "markdown",
   "metadata": {
    "id": "c2buNNjRkMJ-"
   },
   "source": [
    "## Question:10"
   ]
  },
  {
   "cell_type": "markdown",
   "metadata": {
    "id": "MatZV1KskMJ-"
   },
   "source": [
    "### Find the median of the previous array in Q8?"
   ]
  },
  {
   "cell_type": "code",
   "execution_count": null,
   "metadata": {
    "colab": {
     "base_uri": "https://localhost:8080/"
    },
    "id": "r65r21LYkMJ-",
    "outputId": "877b74df-cd6c-4db1-a975-26d8a0de4fe2"
   },
   "outputs": [
    {
     "name": "stdout",
     "output_type": "stream",
     "text": [
      "The median of 5x6 arrays is : 14.5\n"
     ]
    }
   ],
   "source": [
    "a = np.arange(30).reshape(5,6)\n",
    "b = np.median(a)\n",
    "print (\"The median of 5x6 arrays is :\",b)"
   ]
  },
  {
   "cell_type": "markdown",
   "metadata": {
    "id": "_rwEHFJ4kMJ_"
   },
   "source": [
    "## Question:11"
   ]
  },
  {
   "cell_type": "markdown",
   "metadata": {
    "id": "hAKA1cEgkMJ_"
   },
   "source": [
    "### Find the transpose of the previous array in Q8?"
   ]
  },
  {
   "cell_type": "code",
   "execution_count": null,
   "metadata": {
    "colab": {
     "base_uri": "https://localhost:8080/"
    },
    "id": "_8w5LKmwkMJ_",
    "outputId": "17aef91a-e94c-4a16-e8f2-7f4babf874a9"
   },
   "outputs": [
    {
     "name": "stdout",
     "output_type": "stream",
     "text": [
      "[[ 0  6 12 18 24]\n",
      " [ 1  7 13 19 25]\n",
      " [ 2  8 14 20 26]\n",
      " [ 3  9 15 21 27]\n",
      " [ 4 10 16 22 28]\n",
      " [ 5 11 17 23 29]]\n"
     ]
    }
   ],
   "source": [
    "a = np.arange(30).reshape(5,6)\n",
    "b = np.transpose(a)\n",
    "print (b)"
   ]
  },
  {
   "cell_type": "markdown",
   "metadata": {
    "id": "nmIubBvZkMKA"
   },
   "source": [
    "## Question:12"
   ]
  },
  {
   "cell_type": "markdown",
   "metadata": {
    "id": "uuAoQUOHkMKA"
   },
   "source": [
    "### Create a 4x4 an array and find the sum of diagonal elements?"
   ]
  },
  {
   "cell_type": "code",
   "execution_count": null,
   "metadata": {
    "colab": {
     "base_uri": "https://localhost:8080/"
    },
    "id": "LXnVFLZNkMKA",
    "outputId": "6d69033e-1c5b-4890-c047-1fe35bff18d4"
   },
   "outputs": [
    {
     "name": "stdout",
     "output_type": "stream",
     "text": [
      "[[ 0  1  2  3]\n",
      " [ 4  5  6  7]\n",
      " [ 8  9 10 11]\n",
      " [12 13 14 15]]\n",
      "[ 0  5 10 15]\n"
     ]
    }
   ],
   "source": [
    "a = np.arange(16).reshape(4,4)\n",
    "print (a)\n",
    "b = np.diagonal(a)\n",
    "print (b)"
   ]
  },
  {
   "cell_type": "markdown",
   "metadata": {
    "id": "G1yCgGctkMKA"
   },
   "source": [
    "## Question:13"
   ]
  },
  {
   "cell_type": "markdown",
   "metadata": {
    "id": "cHpEJJqZkMKB"
   },
   "source": [
    "### Find the determinant of the previous array in Q12?"
   ]
  },
  {
   "cell_type": "code",
   "execution_count": null,
   "metadata": {
    "colab": {
     "base_uri": "https://localhost:8080/"
    },
    "id": "9SolfbX5kMKB",
    "outputId": "dd791d8a-b0ae-4300-f16e-02af21d7bca9"
   },
   "outputs": [
    {
     "name": "stdout",
     "output_type": "stream",
     "text": [
      "[[ 0  1  2  3]\n",
      " [ 4  5  6  7]\n",
      " [ 8  9 10 11]\n",
      " [12 13 14 15]]\n",
      "0.0\n"
     ]
    }
   ],
   "source": [
    "a = np.arange(16).reshape(4,4)\n",
    "print (a)\n",
    "b = np.linalg.det(a)\n",
    "print (b)"
   ]
  },
  {
   "cell_type": "markdown",
   "metadata": {
    "id": "mYD-PrwakMKB"
   },
   "source": [
    "## Question:14"
   ]
  },
  {
   "cell_type": "markdown",
   "metadata": {
    "id": "_yxQEmklkMKB"
   },
   "source": [
    "### Find the 5th and 95th percentile of an array?"
   ]
  },
  {
   "cell_type": "code",
   "execution_count": null,
   "metadata": {
    "colab": {
     "base_uri": "https://localhost:8080/"
    },
    "id": "kWGNM-nfkMKC",
    "outputId": "9afffa22-46a9-42ca-fefa-ab27ed1d0ed0"
   },
   "outputs": [
    {
     "name": "stdout",
     "output_type": "stream",
     "text": [
      "0.75\n",
      "14.25\n"
     ]
    }
   ],
   "source": [
    "a = np.arange(16).reshape(4,4)\n",
    "b = np.percentile(a,5)\n",
    "c = np.percentile(a,95)\n",
    "print (b)\n",
    "print (c)"
   ]
  },
  {
   "cell_type": "markdown",
   "metadata": {
    "id": "aCTcGU-NkMKD"
   },
   "source": [
    "## Question:15"
   ]
  },
  {
   "cell_type": "markdown",
   "metadata": {
    "id": "KJZK_wsCkMKD"
   },
   "source": [
    "### How to find if a given array has any null values?"
   ]
  },
  {
   "cell_type": "code",
   "execution_count": null,
   "metadata": {
    "colab": {
     "base_uri": "https://localhost:8080/"
    },
    "id": "0V2IOkGzkMKD",
    "outputId": "6d633f0c-9258-45c9-a971-a3c72eaac8c4"
   },
   "outputs": [
    {
     "name": "stdout",
     "output_type": "stream",
     "text": [
      "[[[1 2 3 0]\n",
      "  [0 0 3 4]\n",
      "  [1 5 0 0]]]\n"
     ]
    },
    {
     "data": {
      "text/plain": [
       "array([[['1', '2', '3', 'Null Values'],\n",
       "        ['Null Values', 'Null Values', '3', '4'],\n",
       "        ['1', '5', 'Null Values', 'Null Values']]], dtype='<U21')"
      ]
     },
     "execution_count": 23,
     "metadata": {
      "tags": []
     },
     "output_type": "execute_result"
    }
   ],
   "source": [
    "a = np.array([[[1,2,3,0], [0,0,3,4], [1,5,0,0]]])\n",
    "\n",
    "print (a)\n",
    "\n",
    "b = np.where(a<=0, \"Null Values\", a)\n",
    "b\n",
    "\n"
   ]
  },
  {
   "cell_type": "code",
   "execution_count": null,
   "metadata": {
    "id": "n0aKXS7zkCCO"
   },
   "outputs": [],
   "source": []
  }
 ],
 "metadata": {
  "colab": {
   "collapsed_sections": [],
   "name": "PIAIC104510 Assignment#2(Numpy Fundamentals.ipynb",
   "provenance": []
  },
  "kernelspec": {
   "display_name": "Python 3",
   "language": "python",
   "name": "python3"
  },
  "language_info": {
   "codemirror_mode": {
    "name": "ipython",
    "version": 3
   },
   "file_extension": ".py",
   "mimetype": "text/x-python",
   "name": "python",
   "nbconvert_exporter": "python",
   "pygments_lexer": "ipython3",
   "version": "3.7.6"
  }
 },
 "nbformat": 4,
 "nbformat_minor": 1
}
